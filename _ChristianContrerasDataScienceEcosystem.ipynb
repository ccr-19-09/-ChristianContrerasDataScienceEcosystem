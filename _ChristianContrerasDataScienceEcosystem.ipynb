{
  "metadata": {
    "kernelspec": {
      "name": "python",
      "display_name": "Python (Pyodide)",
      "language": "python"
    },
    "language_info": {
      "codemirror_mode": {
        "name": "python",
        "version": 3
      },
      "file_extension": ".py",
      "mimetype": "text/x-python",
      "name": "python",
      "nbconvert_exporter": "python",
      "pygments_lexer": "ipython3",
      "version": "3.8"
    }
  },
  "nbformat_minor": 5,
  "nbformat": 4,
  "cells": [
    {
      "id": "7eba51d6-2ecb-43cb-81d7-f9ec14404189",
      "cell_type": "markdown",
      "source": "# Data Science Tools and Ecosystem",
      "metadata": {}
    },
    {
      "id": "5e65a7df-78c8-4412-91cc-bacd985282c2",
      "cell_type": "markdown",
      "source": "En este cuaderno, se resumen las herramientas y ecosistemas de ciencia de datos.",
      "metadata": {}
    },
    {
      "id": "018ccbe1-80ec-4c97-86f6-62b9c686c0e0",
      "cell_type": "markdown",
      "source": "***Objetivos:***\nListar lenguajes populares para Ciencia de Datos.\n- JavaScript\n- HTML\n- Python\n- SQL\n- Java",
      "metadata": {}
    },
    {
      "id": "2278d67c-78d6-448a-a2bd-41ae1660bc87",
      "cell_type": "markdown",
      "source": "Algunos de los lenguajes populares que utilizan los científicos de datos son:  \n1 Python. \n2 R.\n3 SQL.\n4 Julia.\n5 Scala.\n6 JavaScript.\n7 Java.\n",
      "metadata": {}
    },
    {
      "id": "18d73a25-978d-425b-ad3c-5bde09c7e62b",
      "cell_type": "markdown",
      "source": "Algunas de las bibliotecas comúnmente utilizadas por los científicos de datos incluyen:  \n1 Numpy. \n2 Pandas. \n3 Scikit-learn. \n4 Seaborn.",
      "metadata": {}
    },
    {
      "id": "cf01c506-2e58-4010-92e8-e8cf1e7e739f",
      "cell_type": "markdown",
      "source": "\n| Herramientas de Ciencia de Datos |   \n|  ------------------------    |        \n| 1  Apache Hadoop   |\n| 2 TensorFlow    |   \n| 3 Scikit-learn   |   \n",
      "metadata": {}
    },
    {
      "id": "d6168e71-e932-42d0-83e0-ab5cfd3049d8",
      "cell_type": "markdown",
      "source": "### A continuación, se presentan algunos ejemplos de evaluación de expresiones aritméticas en Python.",
      "metadata": {}
    },
    {
      "id": "3d716091-e1c6-4cc5-b653-b5715885ac4d",
      "cell_type": "code",
      "source": "#Esta es una expresión aritmética simple para multiplicar y luego sumar enteros\n(3*4)+5",
      "metadata": {
        "trusted": true
      },
      "outputs": [
        {
          "execution_count": 12,
          "output_type": "execute_result",
          "data": {
            "text/plain": "17"
          },
          "metadata": {}
        }
      ],
      "execution_count": 12
    },
    {
      "id": "084e6253-d3b4-4c61-bf2f-6f4d110805e2",
      "cell_type": "code",
      "source": "# Esto convertirá 200 minutos a horas dividiendo por 60 200 minutos en horas\n200/60",
      "metadata": {
        "trusted": true
      },
      "outputs": [
        {
          "execution_count": 13,
          "output_type": "execute_result",
          "data": {
            "text/plain": "3.3333333333333335"
          },
          "metadata": {}
        }
      ],
      "execution_count": 13
    },
    {
      "id": "daf69610-cab1-44a8-aef3-fa73a851cbc8",
      "cell_type": "markdown",
      "source": "## Autor\nChristian Contreras R.",
      "metadata": {}
    }
  ]
}